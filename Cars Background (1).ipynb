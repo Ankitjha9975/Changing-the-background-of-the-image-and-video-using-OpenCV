{
 "cells": [
  {
   "cell_type": "code",
   "execution_count": 1,
   "metadata": {},
   "outputs": [],
   "source": [
    "import cv2\n",
    "import numpy as np\n",
    "import matplotlib.pyplot as plt\n"
   ]
  },
  {
   "cell_type": "code",
   "execution_count": null,
   "metadata": {},
   "outputs": [],
   "source": []
  },
  {
   "cell_type": "code",
   "execution_count": 2,
   "metadata": {},
   "outputs": [
    {
     "name": "stdout",
     "output_type": "stream",
     "text": [
      "Requirement already satisfied: mediapipe in c:\\users\\ankit\\appdata\\roaming\\python\\python37\\site-packages (0.8.6)\n",
      "Requirement already satisfied: wheel in c:\\users\\ankit\\miniconda3\\lib\\site-packages (from mediapipe) (0.36.2)\n",
      "Requirement already satisfied: opencv-contrib-python in c:\\users\\ankit\\appdata\\roaming\\python\\python37\\site-packages (from mediapipe) (4.5.3.56)\n",
      "Requirement already satisfied: matplotlib in c:\\users\\ankit\\miniconda3\\lib\\site-packages (from mediapipe) (3.2.2)\n",
      "Requirement already satisfied: six in c:\\users\\ankit\\miniconda3\\lib\\site-packages (from mediapipe) (1.15.0)\n",
      "Requirement already satisfied: absl-py in c:\\users\\ankit\\appdata\\roaming\\python\\python37\\site-packages (from mediapipe) (0.13.0)\n",
      "Requirement already satisfied: protobuf>=3.11.4 in c:\\users\\ankit\\miniconda3\\lib\\site-packages (from mediapipe) (3.17.3)\n",
      "Requirement already satisfied: attrs>=19.1.0 in c:\\users\\ankit\\miniconda3\\lib\\site-packages (from mediapipe) (19.3.0)\n",
      "Requirement already satisfied: numpy in c:\\users\\ankit\\miniconda3\\lib\\site-packages (from mediapipe) (1.19.2)\n",
      "Requirement already satisfied: kiwisolver>=1.0.1 in c:\\users\\ankit\\miniconda3\\lib\\site-packages (from matplotlib->mediapipe) (1.2.0)\n",
      "Requirement already satisfied: python-dateutil>=2.1 in c:\\users\\ankit\\miniconda3\\lib\\site-packages (from matplotlib->mediapipe) (2.8.1)\n",
      "Requirement already satisfied: pyparsing!=2.0.4,!=2.1.2,!=2.1.6,>=2.0.1 in c:\\users\\ankit\\miniconda3\\lib\\site-packages (from matplotlib->mediapipe) (2.4.7)\n",
      "Requirement already satisfied: cycler>=0.10 in c:\\users\\ankit\\miniconda3\\lib\\site-packages (from matplotlib->mediapipe) (0.10.0)\n",
      "Note: you may need to restart the kernel to use updated packages.\n"
     ]
    }
   ],
   "source": [
    "pip install mediapipe --user"
   ]
  },
  {
   "cell_type": "code",
   "execution_count": 3,
   "metadata": {},
   "outputs": [
    {
     "name": "stdout",
     "output_type": "stream",
     "text": [
      "Requirement already satisfied: cvzone in c:\\users\\ankit\\miniconda3\\lib\\site-packages (1.3.7)\n",
      "Requirement already satisfied: numpy in c:\\users\\ankit\\miniconda3\\lib\\site-packages (from cvzone) (1.19.2)\n",
      "Requirement already satisfied: opencv-python in c:\\users\\ankit\\miniconda3\\lib\\site-packages (from cvzone) (4.3.0.36)\n",
      "Note: you may need to restart the kernel to use updated packages.\n"
     ]
    }
   ],
   "source": [
    "pip install cvzone"
   ]
  },
  {
   "cell_type": "code",
   "execution_count": 4,
   "metadata": {},
   "outputs": [],
   "source": [
    "import cv2\n",
    "import os\n",
    "import cvzone\n",
    "from cvzone.SelfiSegmentationModule import SelfiSegmentation\n",
    "\n",
    "cap = cv2.VideoCapture(0)\n",
    "\n",
    "cap.set(3,640)\n",
    "cap.set(4,480)\n",
    "segmentor = SelfiSegmentation()\n",
    "#imgBG = cv2.imread('DATA/road_image.jpg')\n",
    "#imgBG1 = cv2.resize(imgBG,(640,480))\n",
    "\n",
    "\n",
    "\n",
    "while True:\n",
    "    success,img = cap.read()\n",
    "    \n",
    "    imgOut = segmentor.removeBG(img,(255,255,0),threshold=0.8)\n",
    "    \n",
    "    cv2.imshow('image',img)\n",
    "    cv2.imshow('I',imgOut)\n",
    "    \n",
    "    if cv2.waitKey(1) & 0xff == 27:\n",
    "        break\n",
    "        \n",
    "cap.release()\n",
    "cv2.destroyAllWindows()\n",
    "\n",
    "        \n",
    "    \n",
    "    "
   ]
  },
  {
   "cell_type": "code",
   "execution_count": 5,
   "metadata": {},
   "outputs": [],
   "source": [
    "import cv2\n",
    "import os\n",
    "import cvzone\n",
    "from cvzone.SelfiSegmentationModule import SelfiSegmentation\n",
    "\n",
    "cap = cv2.VideoCapture(0)\n",
    "\n",
    "cap.set(3,640)\n",
    "cap.set(4,480)\n",
    "segmentor = SelfiSegmentation()\n",
    "imgBG = cv2.imread('DATA/road_image.jpg')\n",
    "imgBG1 = cv2.resize(imgBG,(640,480))\n",
    "\n",
    "\n",
    "\n",
    "\n",
    "while True:\n",
    "    success,img = cap.read()\n",
    "    img2  = cv2.flip(img,1)\n",
    "    \n",
    "    imgOut = segmentor.removeBG(img2,imgBG1,threshold=0.8)\n",
    "    \n",
    "    cv2.imshow('image',img2)\n",
    "    cv2.imshow('I',imgOut)\n",
    "    \n",
    "    if cv2.waitKey(1) & 0xff == 27:\n",
    "        break\n",
    "        \n",
    "cap.release()\n",
    "cv2.destroyAllWindows()\n",
    "\n",
    "        \n",
    "    \n",
    "    "
   ]
  },
  {
   "cell_type": "code",
   "execution_count": 5,
   "metadata": {},
   "outputs": [],
   "source": [
    "import cv2\n",
    "import os\n",
    "import cvzone\n",
    "from cvzone.SelfiSegmentationModule import SelfiSegmentation\n",
    "\n",
    "\n",
    "img = cv2.imread('DATA/view1.jpeg')\n",
    "img2 = cv2.resize(img,(900,600))\n",
    "\n",
    "segmentor = SelfiSegmentation(0)\n",
    "imgOut = segmentor.removeBG(img2,(255,255,255),threshold=0.0005)\n",
    "\n",
    "while True:\n",
    "   \n",
    "    \n",
    "    \n",
    "    \n",
    "    cv2.imshow('image',img2)\n",
    "    cv2.imshow('I',imgOut)\n",
    "    \n",
    "    if cv2.waitKey(1) & 0xff == 27:\n",
    "        break\n",
    "        \n",
    "cv2.destroyAllWindows()\n"
   ]
  },
  {
   "cell_type": "code",
   "execution_count": 6,
   "metadata": {},
   "outputs": [],
   "source": [
    "import cv2\n",
    "import os\n",
    "import cvzone\n",
    "from cvzone.SelfiSegmentationModule import SelfiSegmentation\n",
    "\n",
    "\n",
    "img = cv2.imread('DATA/view1.jpeg')\n",
    "img2 = cv2.resize(img,(900,600))\n",
    "\n",
    "imgBG = cv2.imread('DATA/road_image.jpg')\n",
    "imgBG1 = cv2.resize(imgBG,(900,600))\n",
    "\n",
    "segmentor = SelfiSegmentation(0)\n",
    "imgOut = segmentor.removeBG(img2,imgBG1,threshold=0.0005)\n",
    "\n",
    "while True:\n",
    "   \n",
    "    \n",
    "    \n",
    "    \n",
    "    cv2.imshow('image',img2)\n",
    "    cv2.imshow('I',imgOut)\n",
    "    \n",
    "    if cv2.waitKey(1) & 0xff == 27:\n",
    "        break\n",
    "        \n",
    "cv2.destroyAllWindows()\n"
   ]
  },
  {
   "cell_type": "code",
   "execution_count": null,
   "metadata": {},
   "outputs": [],
   "source": []
  },
  {
   "cell_type": "code",
   "execution_count": null,
   "metadata": {},
   "outputs": [],
   "source": []
  },
  {
   "cell_type": "code",
   "execution_count": null,
   "metadata": {},
   "outputs": [],
   "source": []
  },
  {
   "cell_type": "code",
   "execution_count": null,
   "metadata": {},
   "outputs": [],
   "source": []
  }
 ],
 "metadata": {
  "kernelspec": {
   "display_name": "Python 3",
   "language": "python",
   "name": "python3"
  },
  "language_info": {
   "codemirror_mode": {
    "name": "ipython",
    "version": 3
   },
   "file_extension": ".py",
   "mimetype": "text/x-python",
   "name": "python",
   "nbconvert_exporter": "python",
   "pygments_lexer": "ipython3",
   "version": "3.7.7"
  }
 },
 "nbformat": 4,
 "nbformat_minor": 4
}
